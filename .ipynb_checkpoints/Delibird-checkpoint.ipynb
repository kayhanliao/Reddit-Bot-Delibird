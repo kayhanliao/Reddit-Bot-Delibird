{
 "cells": [
  {
   "cell_type": "code",
   "execution_count": 4,
   "metadata": {},
   "outputs": [],
   "source": [
    "import praw\n",
    "from time import sleep\n",
    "import time\n",
    "\n",
    "keywords = ['M6-A', 'M6-C','M6-B','macropad']\n",
    "alertedPosts = []\n",
    "start_time = time.time()"
   ]
  },
  {
   "cell_type": "code",
   "execution_count": null,
   "metadata": {},
   "outputs": [],
   "source": [
    "\n"
   ]
  },
  {
   "cell_type": "code",
   "execution_count": 5,
   "metadata": {},
   "outputs": [],
   "source": [
    "reddit = praw.Reddit(\n",
    "    client_id=\"g7dST7D3l_pbow\",\n",
    "    client_secret=\"MOCdR7h3NaM1uKHpF0At2udXyh3bUQ\",\n",
    "    user_agent=\"chloe\",\n",
    "    username=\"delibirdMK\",\n",
    "    password=\"ivysaur7\"\n",
    " )\n",
    "\n",
    "\n",
    "mm = reddit.subreddit(\"mechmarket\")\n",
    "\n",
    "\n",
    "\n",
    "\n",
    "def sendMessage(word,title,link,author):\n",
    "    superString = 'Found ' + str(word) + ' in post by ' + str(author)  + ' Title: ' +str(title) + '\\n' + 'link: ' + str(link)\n",
    "    me = reddit.redditor('kayhanliao')\n",
    "    me.message(subject = 'Found ' + str(word) + ' in post by ' + str(author), message = superString)"
   ]
  },
  {
   "cell_type": "code",
   "execution_count": null,
   "metadata": {},
   "outputs": [],
   "source": [
    "def main():\n",
    "    try:\n",
    "        for submission in mm.stream.submissions():\n",
    "            if submission.created_utc < start_time:\n",
    "                continue\n",
    "            if submission.id in alertedPosts:\n",
    "                continue\n",
    "            title, text, link, author = submission.title, submission.selftext, submission.url, submission.author\n",
    "            flair = submission.link_flair_text\n",
    "            for word in keywords: \n",
    "                variations = [word,word.upper(), word.lower()]\n",
    "                for key in variations:\n",
    "                    if key in title or key in text:\n",
    "                        sendMessage(key,title,link,author)\n",
    "                        alertedPosts.append(submission.id)\n",
    "                        break\n",
    "    except Exception as e:\n",
    "        print(str(e))\n",
    "        sleep(60)\n",
    "        main()\n",
    "if __name__ == '__main__':\n",
    "    main()"
   ]
  },
  {
   "cell_type": "code",
   "execution_count": null,
   "metadata": {
    "scrolled": true
   },
   "outputs": [],
   "source": [
    "def search(keyword):\n",
    "    mm = reddit.subreddit(\"mechmarket\")\n",
    "    urls = []\n",
    "    \n",
    "    for submission in mm.new(limit = 10):\n",
    "        title, text, link, author = submission.title, submission.selftext, submission.url, submission.author\n",
    "        if keyword.lower() in title.lower() or keyword.lower() in text.lower():\n",
    "            urls.append(link)\n",
    "    return urls\n",
    "    \n",
    "    \n",
    "    #me = reddit.redditor('kayhanliao')\n",
    "    #me.message(subject = 'Found ' + str(word) + ' in post by ' + str(author), message = superString)"
   ]
  },
  {
   "cell_type": "code",
   "execution_count": null,
   "metadata": {},
   "outputs": [],
   "source": [
    "search('linears')"
   ]
  },
  {
   "cell_type": "code",
   "execution_count": null,
   "metadata": {},
   "outputs": [],
   "source": []
  },
  {
   "cell_type": "code",
   "execution_count": null,
   "metadata": {},
   "outputs": [],
   "source": []
  },
  {
   "cell_type": "code",
   "execution_count": null,
   "metadata": {},
   "outputs": [],
   "source": []
  },
  {
   "cell_type": "code",
   "execution_count": null,
   "metadata": {},
   "outputs": [],
   "source": []
  }
 ],
 "metadata": {
  "kernelspec": {
   "display_name": "Python 3",
   "language": "python",
   "name": "python3"
  },
  "language_info": {
   "codemirror_mode": {
    "name": "ipython",
    "version": 3
   },
   "file_extension": ".py",
   "mimetype": "text/x-python",
   "name": "python",
   "nbconvert_exporter": "python",
   "pygments_lexer": "ipython3",
   "version": "3.8.1"
  }
 },
 "nbformat": 4,
 "nbformat_minor": 2
}
